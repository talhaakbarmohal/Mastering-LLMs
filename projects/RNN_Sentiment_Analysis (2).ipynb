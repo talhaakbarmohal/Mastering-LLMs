{
  "cells": [
    {
      "cell_type": "markdown",
      "metadata": {
        "id": "UBSHewWcOMIZ"
      },
      "source": [
        "In this project, we aim to build a Recurrent Neural Network (RNN) for Sentiment Analysis using PyTorch as the deep learning framework.\n",
        "\n",
        "To preprocess and clean the text data, we’ll use NLTK (Natural Language Toolkit) — a powerful library for handling tasks like tokenization, stop word removal, and text normalization."
      ]
    },
    {
      "cell_type": "code",
      "execution_count": null,
      "metadata": {
        "colab": {
          "base_uri": "https://localhost:8080/"
        },
        "id": "tciucJSp5MHn",
        "outputId": "221bd81a-e263-4af9-d0be-a740f01c5bd0"
      },
      "outputs": [
        {
          "name": "stdout",
          "output_type": "stream",
          "text": [
            "env: CUDA_LAUNCH_BLOCKING=1\n"
          ]
        }
      ],
      "source": [
        "%env CUDA_LAUNCH_BLOCKING=1"
      ]
    },
    {
      "cell_type": "code",
      "execution_count": null,
      "metadata": {
        "colab": {
          "base_uri": "https://localhost:8080/"
        },
        "id": "sjBKh51MJpml",
        "outputId": "559e5260-08a6-45e7-f89f-351ae4d0ffbf"
      },
      "outputs": [
        {
          "name": "stdout",
          "output_type": "stream",
          "text": [
            "Mounted at /content/drive\n"
          ]
        }
      ],
      "source": [
        "from google.colab import drive\n",
        "drive.mount('/content/drive')"
      ]
    },
    {
      "cell_type": "code",
      "execution_count": null,
      "metadata": {
        "colab": {
          "base_uri": "https://localhost:8080/"
        },
        "id": "W6YbcuHOIwt-",
        "outputId": "f0258cf4-79dd-4cb5-8deb-fa507aa23924"
      },
      "outputs": [
        {
          "name": "stdout",
          "output_type": "stream",
          "text": [
            "Current Directory: /content/drive/My Drive/Colab Notebooks\n"
          ]
        }
      ],
      "source": [
        "import os\n",
        "\n",
        "notebook_path = '/content/drive/My Drive/Colab Notebooks'  # Change this to match your folder\n",
        "os.chdir(notebook_path)  # Change the working directory to your notebook folder\n",
        "print(\"Current Directory:\", os.getcwd())"
      ]
    },
    {
      "cell_type": "code",
      "execution_count": null,
      "metadata": {
        "id": "K8z7ZBQEIx-8"
      },
      "outputs": [],
      "source": [
        "import re\n",
        "import nltk\n",
        "import torch\n",
        "import string\n",
        "import pandas as pd\n",
        "import inflect\n",
        "from tqdm.notebook import tqdm\n",
        "from torch.nn.utils.rnn import pad_sequence\n",
        "from nltk.tokenize import word_tokenize\n",
        "from nltk.corpus import stopwords\n",
        "from bs4 import BeautifulSoup\n"
      ]
    },
    {
      "cell_type": "code",
      "execution_count": null,
      "metadata": {
        "colab": {
          "base_uri": "https://localhost:8080/"
        },
        "id": "gCy4pPeLqhGu",
        "outputId": "49b8fe3d-2337-4316-a919-f2296a923909"
      },
      "outputs": [
        {
          "name": "stderr",
          "output_type": "stream",
          "text": [
            "[nltk_data] Downloading package punkt to /root/nltk_data...\n",
            "[nltk_data]   Unzipping tokenizers/punkt.zip.\n",
            "[nltk_data] Downloading package stopwords to /root/nltk_data...\n",
            "[nltk_data]   Unzipping corpora/stopwords.zip.\n",
            "[nltk_data] Downloading package wordnet to /root/nltk_data...\n",
            "[nltk_data] Downloading package punkt_tab to /root/nltk_data...\n",
            "[nltk_data]   Unzipping tokenizers/punkt_tab.zip.\n"
          ]
        }
      ],
      "source": [
        "nltk.download(\"punkt\")\n",
        "nltk.download(\"stopwords\")\n",
        "nltk.download(\"wordnet\")\n",
        "nltk.download('punkt_tab')\n",
        "stop_words = set(stopwords.words(\"english\"))\n",
        "p = inflect.engine()\n",
        "tqdm.pandas()"
      ]
    },
    {
      "cell_type": "code",
      "execution_count": null,
      "metadata": {
        "colab": {
          "base_uri": "https://localhost:8080/"
        },
        "id": "uDvWpqiYCIkf",
        "outputId": "7bf06684-1313-44fe-f60b-5a529562c41f"
      },
      "outputs": [
        {
          "name": "stdout",
          "output_type": "stream",
          "text": [
            "                                              review sentiment\n",
            "0  One of the other reviewers has mentioned that ...  positive\n",
            "1  A wonderful little production. <br /><br />The...  positive\n",
            "2  I thought this was a wonderful way to spend ti...  positive\n",
            "3  Basically there's a family where a little boy ...  negative\n",
            "4  Petter Mattei's \"Love in the Time of Money\" is...  positive\n"
          ]
        }
      ],
      "source": [
        "df = pd.read_csv('IMDB Dataset.csv')  # No need for full path since we set the working directory\n",
        "print(df.head())  # Display first few rows"
      ]
    },
    {
      "cell_type": "code",
      "execution_count": null,
      "metadata": {
        "colab": {
          "base_uri": "https://localhost:8080/"
        },
        "id": "ZZIO0KKTY6jV",
        "outputId": "0fc76af1-32d6-471f-eac3-0cb0a74b61e2"
      },
      "outputs": [
        {
          "name": "stdout",
          "output_type": "stream",
          "text": [
            "contains_digits\n",
            "True     28005\n",
            "False    21995\n",
            "Name: count, dtype: int64\n"
          ]
        }
      ],
      "source": [
        "# Function to check if text contains digits\n",
        "def contains_digit(text):\n",
        "    return bool(re.search(r'\\d', text))\n",
        "\n",
        "# Apply the function to the 'text' column\n",
        "df['contains_digits'] = df['review'].apply(contains_digit)\n",
        "\n",
        "print(df['contains_digits'].value_counts())"
      ]
    },
    {
      "cell_type": "code",
      "execution_count": null,
      "metadata": {
        "colab": {
          "base_uri": "https://localhost:8080/"
        },
        "id": "-MboKetqsupy",
        "outputId": "2f0714b4-ea80-45fa-fbc6-ba4eaa7d8672"
      },
      "outputs": [
        {
          "name": "stdout",
          "output_type": "stream",
          "text": [
            "Null values: review             0\n",
            "sentiment          0\n",
            "contains_digits    0\n",
            "dtype: int64\n",
            "Dublicate values: 418\n"
          ]
        }
      ],
      "source": [
        "\n",
        "print(f\"Null values: {df.isnull().sum()}\")\n",
        "print(f\"Dublicate values: {df.duplicated().sum()}\")\n"
      ]
    },
    {
      "cell_type": "code",
      "execution_count": null,
      "metadata": {
        "colab": {
          "base_uri": "https://localhost:8080/"
        },
        "id": "Rq3tlTHj8kbB",
        "outputId": "22595741-540c-43ee-a082-4f31192701f6"
      },
      "outputs": [
        {
          "name": "stdout",
          "output_type": "stream",
          "text": [
            "Dublicate values: 418\n"
          ]
        }
      ],
      "source": [
        "#df = df.drop_duplicates()\n",
        "print(f\"Dublicate values: {df.duplicated().sum()}\")"
      ]
    },
    {
      "cell_type": "code",
      "execution_count": null,
      "metadata": {
        "id": "ijLk3YEkTSb6"
      },
      "outputs": [],
      "source": [
        "import pdb\n",
        "def clean_text(text):\n",
        "    # Convert text to lowercase\n",
        "\n",
        "    text = text.lower()\n",
        "\n",
        "    # Remove HTML tags\n",
        "    text = BeautifulSoup(text, \"html.parser\").get_text()\n",
        "\n",
        "    text = re.sub(r\"http\\S+|www\\S+|https\\S+\", \"\", text)\n",
        "\n",
        "    # Remove user mentions (like @username) and hashtags (#hashtag)\n",
        "    text = re.sub(r\"@[\\w]+|#\\w+\", \"\", text)\n",
        "    # Remove punctuation\n",
        "    text = text.translate(str.maketrans(\"\", \"\", string.punctuation))\n",
        "\n",
        "    # Tokenize words\n",
        "    words = word_tokenize(text)\n",
        "\n",
        "    # Remove stopwords\n",
        "    stop_words = set(stopwords.words(\"english\"))\n",
        "\n",
        "    words = [word for word in words if word not in stop_words]\n",
        "    #words = [p.number_to_words(word) if word.isdigit() else word for word in words]\n",
        "\n",
        "\n",
        "    # Join words back into a cleaned sentence\n",
        "    return \" \".join(words)"
      ]
    },
    {
      "cell_type": "code",
      "execution_count": null,
      "metadata": {
        "id": "SjpidXskmVtl"
      },
      "outputs": [],
      "source": [
        "df[\"clean_review\"] = df[\"review\"].progress_apply(clean_text)\n"
      ]
    },
    {
      "cell_type": "code",
      "execution_count": null,
      "metadata": {
        "colab": {
          "base_uri": "https://localhost:8080/"
        },
        "id": "1IZ-MLPxuWiA",
        "outputId": "7b75a92f-5c51-4ed8-a398-9d99317202d5"
      },
      "outputs": [
        {
          "name": "stdout",
          "output_type": "stream",
          "text": [
            "count    50000.00000\n",
            "mean       119.83162\n",
            "std         90.08235\n",
            "min          3.00000\n",
            "25%         64.00000\n",
            "50%         89.00000\n",
            "75%        146.00000\n",
            "max       1429.00000\n",
            "Name: text_length, dtype: float64\n",
            "No of review words greater than 2000: 4365\n"
          ]
        }
      ],
      "source": [
        "df1= df\n",
        "df1[\"text_length\"] = df1[\"clean_review\"].apply(lambda x: len(str(x).split()))\n",
        "\n",
        "# Show summary statistics\n",
        "print(df1[\"text_length\"].describe())\n",
        "print(f\"No of review words greater than 2000: {df1[df1['text_length'] > 250].shape[0]}\")"
      ]
    },
    {
      "cell_type": "markdown",
      "metadata": {
        "id": "Ab7d80CHqhi-"
      },
      "source": []
    },
    {
      "cell_type": "code",
      "execution_count": null,
      "metadata": {
        "id": "Exl1J-PpVIDr"
      },
      "outputs": [],
      "source": []
    },
    {
      "cell_type": "code",
      "execution_count": null,
      "metadata": {
        "colab": {
          "base_uri": "https://localhost:8080/",
          "height": 487
        },
        "id": "Hc7otgD156iO",
        "outputId": "1393d9dc-2758-4f26-e7cf-f626f12ef9ae"
      },
      "outputs": [
        {
          "data": {
            "image/png": "[encoded data removed]",
            "text/plain": [
              "<Figure size 1000x500 with 1 Axes>"
            ]
          },
          "metadata": {},
          "output_type": "display_data"
        }
      ],
      "source": [
        "import matplotlib.pyplot as plt\n",
        "\n",
        "plt.figure(figsize=(10,5))\n",
        "plt.hist(df1[\"text_length\"], bins=10, color=\"blue\", alpha=0.7)\n",
        "plt.xlabel(\"Number of Words\")\n",
        "plt.ylabel(\"Frequency\")\n",
        "plt.title(\"Text Length Distribution\")\n",
        "plt.show()"
      ]
    },
    {
      "cell_type": "code",
      "execution_count": null,
      "metadata": {
        "colab": {
          "base_uri": "https://localhost:8080/"
        },
        "id": "SAHemrxW5nDj",
        "outputId": "90a8feab-f59e-40b6-ae72-37fc64cfa0a1"
      },
      "outputs": [
        {
          "name": "stdout",
          "output_type": "stream",
          "text": [
            "one reviewers mentioned watching 1 oz episode youll hooked right exactly happened methe first thing struck oz brutality unflinching scenes violence set right word go trust show faint hearted timid show pulls punches regards drugs sex violence hardcore classic use wordit called oz nickname given oswald maximum security state penitentary focuses mainly emerald city experimental section prison cells glass fronts face inwards privacy high agenda em city home manyaryans muslims gangstas latinos christians italians irish moreso scuffles death stares dodgy dealings shady agreements never far awayi would say main appeal show due fact goes shows wouldnt dare forget pretty pictures painted mainstream audiences forget charm forget romanceoz doesnt mess around first episode ever saw struck nasty surreal couldnt say ready watched developed taste oz got accustomed high levels graphic violence violence injustice crooked guards wholl sold nickel inmates wholl kill order get away well mannered middle class inmates turned prison bitches due lack street skills prison experience watching oz may become comfortable uncomfortable viewingthats get touch darker side\n"
          ]
        }
      ],
      "source": [
        "print(df['clean_review'][0])\n",
        "#df = df[df[\"clean_review\"].apply(lambda x: len(str(x).split()) <= 200)]\n"
      ]
    },
    {
      "cell_type": "code",
      "execution_count": null,
      "metadata": {
        "id": "eySanyO1qhCs"
      },
      "outputs": [],
      "source": [
        "df[\"tokens\"] = df[\"clean_review\"].progress_apply(lambda x: x.split())\n",
        "\n"
      ]
    },
    {
      "cell_type": "code",
      "execution_count": null,
      "metadata": {
        "colab": {
          "base_uri": "https://localhost:8080/"
        },
        "id": "bPCrvdJlQc4o",
        "outputId": "1b372942-d005-4d2e-80f1-d9a9aaa7cf29"
      },
      "outputs": [],
      "source": [
        "max_seq_len = df['tokens'].apply(len).max()\n",
        "print(\"Maximum tokens length:\", max_seq_len)\n",
        "print(df[\"tokens\"][0])\n",
        "print(df[\"clean_review\"][0])"
      ]
    },
    {
      "cell_type": "code",
      "execution_count": null,
      "metadata": {
        "colab": {
          "base_uri": "https://localhost:8080/"
        },
        "id": "snDe3SDlqg-E",
        "outputId": "d827dedc-f82c-4102-f38c-a55f21f8e23b"
      },
      "outputs": [],
      "source": [
        "from collections import Counter\n",
        "\n",
        "# Flatten all tokens into a single list\n",
        "all_words = [word for tokens in df[\"tokens\"] for word in tokens]\n",
        "\n",
        "# Count frequency of each word\n",
        "word_counts = Counter(all_words)\n",
        "\n",
        "# Define vocabulary size\n",
        "vocab_size = 20000\n",
        "\n",
        "# Create word-to-index mapping\n",
        "word_to_index = {word: idx+1 for idx, (word, _) in enumerate(word_counts.most_common(vocab_size))}\n",
        "print(word_to_index)\n",
        "# Add special tokens\n",
        "word_to_index[\"<OOV>\"] = len(word_to_index) + 1\n",
        "word_to_index[\"<PAD>\"] = 0\n",
        "print(word_to_index)\n",
        "# Reverse mapping for index-to-word\n",
        "index_to_word = {idx: word for word, idx in word_to_index.items()}\n",
        "print(index_to_word)"
      ]
    },
    {
      "cell_type": "code",
      "execution_count": null,
      "metadata": {
        "colab": {
          "base_uri": "https://localhost:8080/"
        },
        "id": "4FCn0zrfqg5c",
        "outputId": "a012d5b2-e4b3-4770-df91-378f765c5490"
      },
      "outputs": [],
      "source": [
        "def tokens_to_sequence(tokens):\n",
        "    return [word_to_index.get(word, word_to_index[\"<OOV>\"]) for word in tokens]\n",
        "\n",
        "# Apply the transformation\n",
        "df[\"sequences\"] = df[\"tokens\"].apply(tokens_to_sequence)\n",
        "print(df[\"sequences\"][0])\n",
        "max_seq_len = df['sequences'].apply(len).max()\n",
        "print(\"Maximum sequence length:\", max_seq_len)"
      ]
    },
    {
      "cell_type": "code",
      "execution_count": null,
      "metadata": {
        "id": "Vv2NuWQQqgyr"
      },
      "outputs": [],
      "source": [
        "max_length = 500\n",
        "\n",
        "# Convert sequences to PyTorch tensor\n",
        "sequences_tensor = [torch.tensor(seq[:max_length], dtype=torch.long) for seq in df[\"sequences\"]]\n",
        "\n",
        "# Apply padding\n",
        "reversed_sequences = [seq.flip(0) for seq in sequences_tensor]\n",
        "\n",
        "padded_sequences = pad_sequence(reversed_sequences, batch_first=True, padding_value=word_to_index[\"<PAD>\"])\n",
        "padded_sequences = padded_sequences.flip(1)\n",
        "\n",
        "labels_tensor = torch.tensor([1 if label == 'positive' else 0 for label in df['sentiment']], dtype=torch.float32)\n",
        "torch.set_printoptions(threshold=torch.inf)\n",
        "\n"
      ]
    },
    {
      "cell_type": "code",
      "execution_count": null,
      "metadata": {
        "colab": {
          "base_uri": "https://localhost:8080/"
        },
        "id": "IEfNb0SzqgY3",
        "outputId": "2e18157c-2f5c-4e84-db6a-681aa576c14b"
      },
      "outputs": [
        {
          "name": "stdout",
          "output_type": "stream",
          "text": [
            "40000\n"
          ]
        }
      ],
      "source": [
        "from torch.utils.data import Dataset, DataLoader\n",
        "\n",
        "class SentimentDataset(Dataset):\n",
        "    def __init__(self, sequences, labels):\n",
        "        self.sequences = sequences\n",
        "        self.labels =  labels# Convert labels to tensor\n",
        "\n",
        "    def __len__(self):\n",
        "        return len(self.sequences)\n",
        "\n",
        "\n",
        "    def __getitem__(self, idx):\n",
        "        return self.sequences[idx], self.labels[idx]\n",
        "\n",
        "# Convert dataset into PyTorch format\n",
        "dataset = SentimentDataset(padded_sequences, labels_tensor)\n",
        "\n",
        "# Split into training and testing\n",
        "train_size = int(0.8 * len(dataset))\n",
        "test_size = len(dataset) - train_size\n",
        "\n",
        "train_dataset, test_dataset = torch.utils.data.random_split(dataset, [train_size, test_size])\n",
        "print(len(train_dataset))\n",
        "# Create DataLoaders\n",
        "batch_size = 16\n",
        "train_loader = DataLoader(train_dataset, batch_size=batch_size, shuffle=True)\n",
        "test_loader = DataLoader(test_dataset, batch_size=batch_size, shuffle=False)"
      ]
    },
    {
      "cell_type": "code",
      "execution_count": null,
      "metadata": {
        "id": "GuM3to7JXt1b"
      },
      "outputs": [],
      "source": [
        "import numpy as np\n",
        "from gensim.models.keyedvectors import KeyedVectors\n",
        "\n",
        "# Load pre-trained GloVe vectors (100-dimensional)\n",
        "embedding_dim = 100\n",
        "embedding_matrix = np.zeros((vocab_size + 2, embedding_dim))\n",
        "\n",
        "# Load the GloVe vectors using gensim\n",
        "glove_vectors = KeyedVectors.load_word2vec_format(\"glove.6B.100d.txt\", binary=False, no_header=True)\n",
        "\n",
        "# Create the embedding matrix by mapping words to their embeddings\n",
        "for word, index in word_to_index.items():\n",
        "    if word in glove_vectors:\n",
        "        embedding_matrix[index] = glove_vectors[word]\n",
        "embedding_matrix[word_to_index['<PAD>']] = np.zeros(embedding_dim)\n",
        "\n",
        "# <OOV>: assign a random vector (or average of all embeddings if you want)\n",
        "embedding_matrix[word_to_index['<OOV>']] = np.random.normal(scale=0.6, size=(embedding_dim,))\n"
      ]
    },
    {
      "cell_type": "code",
      "execution_count": null,
      "metadata": {
        "colab": {
          "base_uri": "https://localhost:8080/"
        },
        "id": "v-qu_W9z2gVI",
        "outputId": "a28c0fcc-2fc1-47e4-e31f-50f1f8a676fd"
      },
      "outputs": [
        {
          "name": "stdout",
          "output_type": "stream",
          "text": [
            "(20002, 100)\n"
          ]
        }
      ],
      "source": [
        "print(embedding_matrix.shape)"
      ]
    },
    {
      "cell_type": "code",
      "execution_count": null,
      "metadata": {
        "id": "qJp1JI4PcfDo"
      },
      "outputs": [],
      "source": [
        "import torch.nn as nn\n",
        "\n",
        "class SentimentRNN(nn.Module):\n",
        "    def __init__(self, embedding_matrix, hidden_dim, num_layers, dropout):\n",
        "        super(SentimentRNN, self).__init__()\n",
        "\n",
        "        embedding_dim = 100\n",
        "\n",
        "        # Embedding layer using pre-trained weights\n",
        "        self.embedding = nn.Embedding.from_pretrained(torch.tensor(embedding_matrix, dtype=torch.float32), freeze=False)\n",
        "\n",
        "        # RNN layer (can be LSTM or GRU too)\n",
        "        self.rnn = nn.RNN(input_size=embedding_dim,\n",
        "                          hidden_size=hidden_dim,\n",
        "                          num_layers=num_layers,\n",
        "                          batch_first=True,\n",
        "                          dropout=dropout)\n",
        "\n",
        "        # Output layer\n",
        "        self.fc = nn.Linear(hidden_dim, 1)\n",
        "        self.sigmoid = nn.Sigmoid()  # For binary classification\n",
        "\n",
        "    def forward(self, x):\n",
        "        x = self.embedding(x)             # [batch_size, seq_len, embedding_dim]\n",
        "        out, _ = self.rnn(x)              # [batch_size, seq_len, hidden_dim]\n",
        "        out = out[:, -1, :]               # Take the last time step's output\n",
        "        out = self.fc(out)                # [batch_size, 1]\n",
        "        return self.sigmoid(out)          # [batch_size, 1]"
      ]
    },
    {
      "cell_type": "code",
      "execution_count": null,
      "metadata": {
        "id": "zK-Ho-OycevK"
      },
      "outputs": [],
      "source": [
        "model = SentimentRNN(\n",
        "    embedding_matrix=embedding_matrix,\n",
        "    hidden_dim=128,\n",
        "    num_layers=3,\n",
        "    dropout=0.5\n",
        ")"
      ]
    },
    {
      "cell_type": "code",
      "execution_count": null,
      "metadata": {
        "colab": {
          "base_uri": "https://localhost:8080/"
        },
        "id": "yXG5GDE0efOo",
        "outputId": "d139ec62-7928-4475-de64-abe3e156961e"
      },
      "outputs": [
        {
          "name": "stdout",
          "output_type": "stream",
          "text": [
            "Using device: cuda\n"
          ]
        },
        {
          "data": {
            "text/plain": [
              "SentimentRNN(\n",
              "  (embedding): Embedding(20002, 100)\n",
              "  (rnn): RNN(100, 128, num_layers=3, batch_first=True, dropout=0.5)\n",
              "  (fc): Linear(in_features=128, out_features=1, bias=True)\n",
              "  (sigmoid): Sigmoid()\n",
              ")"
            ]
          },
          "execution_count": 47,
          "metadata": {},
          "output_type": "execute_result"
        }
      ],
      "source": [
        "criterion = nn.BCEWithLogitsLoss()\n",
        "optimizer = torch.optim.Adam(model.parameters(), lr=0.0001, weight_decay=1e-5)\n",
        "\n",
        "device = torch.device(\"cuda\" if torch.cuda.is_available() else \"cpu\")\n",
        "print(f\"Using device: {device}\")\n",
        "model.to(device)"
      ]
    },
    {
      "cell_type": "code",
      "execution_count": null,
      "metadata": {
        "id": "jiTxRlNmeic8"
      },
      "outputs": [],
      "source": [
        "val_loss_list = []\n",
        "train_loss_list = []\n",
        "\n",
        "def train_model(model, train_loader, test_loader, criterion, optimizer, epochs=5):\n",
        "\n",
        "    for epoch in range(epochs):\n",
        "        model.train()\n",
        "        running_loss = 0.0\n",
        "        total = 0.0\n",
        "        correct = 0.0\n",
        "        print(f\"\\n🔁 Epoch {epoch+1}/{epochs}\")\n",
        "        train_loop = tqdm(train_loader, total=len(train_loader), desc=\"Training\", leave=False)\n",
        "\n",
        "        for inputs, labels in train_loop:\n",
        "            inputs, labels = inputs.to(device), labels.to(device)\n",
        "            optimizer.zero_grad()\n",
        "            outputs = model(inputs).squeeze()\n",
        "            loss = criterion(outputs, labels)\n",
        "            loss.backward()\n",
        "            optimizer.step()\n",
        "\n",
        "            running_loss += loss.item()\n",
        "            train_loop.set_postfix(loss=loss.item())\n",
        "            predicted = (outputs.data > 0.5).long()\n",
        "            total += labels.size(0)\n",
        "            correct += (predicted == labels).sum().item()\n",
        "\n",
        "        print(f\"✅ Epoch {epoch+1} Training Loss: {running_loss/len(train_loader):.4f}\")\n",
        "        train_loss_list.append(running_loss/len(train_loader))\n",
        "        train_accuracy = correct / total\n",
        "        print(f\"🟢 Training Accuracy: {train_accuracy:.4f}\")\n",
        "\n",
        "        evaluate(model, test_loader)"
      ]
    },
    {
      "cell_type": "code",
      "execution_count": null,
      "metadata": {
        "id": "TuT2hgmEe0F3"
      },
      "outputs": [],
      "source": [
        "# Evaluation function\n",
        "from sklearn.metrics import accuracy_score, precision_score, recall_score, f1_score\n",
        "\n",
        "def evaluate(model, dataloader):\n",
        "    model.eval()  # Set the model to evaluation mode\n",
        "    all_preds = []\n",
        "    all_labels = []\n",
        "    running_loss = 0.0\n",
        "\n",
        "    # No gradients needed for evaluation\n",
        "    with torch.no_grad():\n",
        "        for inputs, labels in dataloader:\n",
        "            # Move the inputs and labels to the device (GPU or CPU)\n",
        "            inputs, labels = inputs.to(device), labels.to(device)\n",
        "\n",
        "            # Forward pass: Compute predicted outputs by passing inputs to the model\n",
        "            outputs = model(inputs)\n",
        "\n",
        "            # Compute the loss\n",
        "            loss = criterion(outputs.squeeze(), labels.float())  # Use .squeeze() for single output\n",
        "            running_loss += loss.item()\n",
        "\n",
        "            # Convert the output probabilities to binary predictions (0 or 1)\n",
        "            preds = (outputs.squeeze() > 0.5).cpu().numpy()  # For binary classification, threshold at 0.5\n",
        "\n",
        "            # Store the predictions and true labels\n",
        "            all_preds.extend(preds)\n",
        "            all_labels.extend(labels.cpu().numpy())\n",
        "\n",
        "    # Calculate evaluation metrics\n",
        "    accuracy = accuracy_score(all_labels, all_preds)\n",
        "    precision = precision_score(all_labels, all_preds)\n",
        "    recall = recall_score(all_labels, all_preds)\n",
        "    f1 = f1_score(all_labels, all_preds)\n",
        "\n",
        "    # Calculate the average loss\n",
        "    avg_loss = running_loss / len(dataloader)\n",
        "    val_loss_list.append(avg_loss)\n",
        "\n",
        "    # Print the evaluation results\n",
        "    print(f'Loss: {avg_loss:.4f}')\n",
        "    print(f'Accuracy: {accuracy:.4f}')\n",
        "    print(f'Precision: {precision:.4f}')\n",
        "    print(f'Recall: {recall:.4f}')\n",
        "    print(f'F1 Score: {f1:.4f}')\n",
        "\n",
        "    return avg_loss, accuracy, precision, recall, f1\n",
        "\n"
      ]
    },
    {
      "cell_type": "code",
      "execution_count": null,
      "metadata": {
        "id": "-Ymk3lpie8Xl"
      },
      "outputs": [],
      "source": [
        "train_model(model, train_loader, test_loader, criterion, optimizer, epochs=5)"
      ]
    },
    {
      "cell_type": "markdown",
      "metadata": {},
      "source": [
        " Epoch 1 Training Loss: 0.5860\n",
        "🟢 Training Accuracy: 0.8104\n",
        "Loss: 0.6359\n",
        "Accuracy: 0.6750\n",
        "Precision: 0.8259\n",
        "Recall: 0.4320\n",
        "F1 Score: 0.5672\n",
        "\n",
        "✅ Epoch 2 Training Loss: 0.5800\n",
        "🟢 Training Accuracy: 0.8341\n",
        "Loss: 0.5942\n",
        "Accuracy: 0.8123\n",
        "Precision: 0.8350\n",
        "Recall: 0.7719\n",
        "F1 Score: 0.8022\n",
        "\n",
        "✅ Epoch 3 Training Loss: 0.5707\n",
        "🟢 Training Accuracy: 0.8500\n",
        "Loss: 0.5849\n",
        "Accuracy: 0.8264\n",
        "Precision: 0.8692\n",
        "Recall: 0.7627\n",
        "F1 Score: 0.8125\n",
        "\n",
        "✅ Epoch 4 Training Loss: 0.5757\n",
        "🟢 Training Accuracy: 0.8303\n",
        "Loss: 0.5909\n",
        "Accuracy: 0.7958\n",
        "Precision: 0.9086\n",
        "Recall: 0.6514\n",
        "F1 Score: 0.7588\n",
        "\n",
        "✅ Epoch 5 Training Loss: 0.5670\n",
        "🟢 Training Accuracy: 0.8541\n",
        "Loss: 0.5857\n",
        "Accuracy: 0.8351\n",
        "Precision: 0.8434\n",
        "Recall: 0.8173\n",
        "F1 Score: 0.8302\n"
      ]
    },
    {
      "cell_type": "code",
      "execution_count": null,
      "metadata": {
        "colab": {
          "base_uri": "https://localhost:8080/",
          "height": 472
        },
        "id": "FgsCWf6EZ1fP",
        "outputId": "334be5f2-20bb-423f-d19c-07563e38ea36"
      },
      "outputs": [
        {
          "data": {
            "image/png": "[encoded data removed]",
            "text/plain": [
              "<Figure size 640x480 with 1 Axes>"
            ]
          },
          "metadata": {},
          "output_type": "display_data"
        }
      ],
      "source": [
        "plt.plot(train_loss_list, label='Training Loss')\n",
        "plt.plot(val_loss_list, label='Validation Loss')\n",
        "plt.title('Loss over Epochs')\n",
        "plt.xlabel('Epochs')\n",
        "plt.ylabel('Loss')\n",
        "plt.legend()\n",
        "plt.show()"
      ]
    },
    {
      "cell_type": "code",
      "execution_count": null,
      "metadata": {},
      "outputs": [],
      "source": []
    }
  ],
  "metadata": {
    "accelerator": "GPU",
    "colab": {
      "gpuType": "T4",
      "machine_shape": "hm",
      "provenance": []
    },
    "kernelspec": {
      "display_name": "Python 3",
      "name": "python3"
    },
    "language_info": {
      "name": "python"
    }
  },
  "nbformat": 4,
  "nbformat_minor": 0
}
